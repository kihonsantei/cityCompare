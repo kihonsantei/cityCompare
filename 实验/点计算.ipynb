{
 "cells": [
  {
   "cell_type": "code",
   "execution_count": 3,
   "id": "8aef5c10",
   "metadata": {},
   "outputs": [
    {
     "name": "stdout",
     "output_type": "stream",
     "text": [
      "   azimuth                    geometry\n",
      "0      0.0  POINT (116.39713 39.92553)\n",
      "1     45.0  POINT (116.40540 39.92290)\n",
      "2     90.0  POINT (116.40882 39.91653)\n",
      "3    135.0  POINT (116.40540 39.91016)\n",
      "4    180.0  POINT (116.39713 39.90752)\n",
      "5    225.0  POINT (116.38886 39.91016)\n",
      "6    270.0  POINT (116.38543 39.91653)\n",
      "7    315.0  POINT (116.38886 39.92290)\n",
      "8     -1.0  POINT (116.39713 39.91653)\n"
     ]
    }
   ],
   "source": [
    "import geopandas as gpd\n",
    "from shapely.geometry import Point\n",
    "from pyproj import Geod\n",
    "\n",
    "def points_around_gdf(center_lat, center_lon, distance_km=1, angle_interval=45):\n",
    "    geod = Geod(ellps=\"WGS84\")\n",
    "    points = []\n",
    "    dist_m = distance_km * 1000  # 转成米\n",
    "\n",
    "    for azimuth in range(0, 360, angle_interval):\n",
    "        lon, lat, _ = geod.fwd(center_lon, center_lat, azimuth, dist_m)\n",
    "        points.append(Point(lon, lat))\n",
    "    \n",
    "    gdf = gpd.GeoDataFrame(\n",
    "        {'azimuth': list(range(0, 360, angle_interval))},\n",
    "        geometry=points,\n",
    "        crs=\"EPSG:4326\"\n",
    "    )\n",
    "    \n",
    "    return gdf\n",
    "\n",
    "# 北京天安门点\n",
    "center_lat = 39.916527\n",
    "center_lon = 116.397128\n",
    "\n",
    "gdf_points = points_around_gdf(center_lat, center_lon)\n",
    "\n",
    "gdf_points.loc[len(gdf_points),\"geometry\"]=Point(center_lon,center_lat)\n",
    "gdf_points.loc[len(gdf_points)-1,\"azimuth\"]=-1\n",
    "# 保存为 GeoJSON 文件\n",
    "gdf_points.to_file(\"points_around_beijing.shp\")\n",
    "\n",
    "print(gdf_points)"
   ]
  },
  {
   "cell_type": "code",
   "execution_count": 4,
   "id": "10fe41b0",
   "metadata": {},
   "outputs": [
    {
     "name": "stdout",
     "output_type": "stream",
     "text": [
      "   azimuth                    geometry\n",
      "0      0.0  POINT (116.39713 39.92553)\n",
      "1     45.0  POINT (116.40540 39.92290)\n",
      "2     90.0  POINT (116.40882 39.91653)\n",
      "3    135.0  POINT (116.40540 39.91016)\n",
      "4    180.0  POINT (116.39713 39.90752)\n",
      "5    225.0  POINT (116.38886 39.91016)\n",
      "6    270.0  POINT (116.38543 39.91653)\n",
      "7    315.0  POINT (116.38886 39.92290)\n",
      "8     -1.0  POINT (116.39713 39.91653)\n"
     ]
    }
   ],
   "source": [
    "\n",
    "\n",
    "# 北京天安门点\n",
    "center_lat = 39.916527\n",
    "center_lon = 116.397128\n",
    "\n",
    "gdf_points = points_around_gdf(center_lat, center_lon)\n",
    "\n",
    "gdf_points.loc[len(gdf_points),\"geometry\"]=Point(center_lon,center_lat)\n",
    "gdf_points.loc[len(gdf_points)-1,\"azimuth\"]=-1\n",
    "# 保存为 GeoJSON 文件\n",
    "gdf_points.to_file(\"points_around_beijing.shp\")\n",
    "\n",
    "print(gdf_points)"
   ]
  },
  {
   "cell_type": "code",
   "execution_count": null,
   "id": "b80baafb",
   "metadata": {},
   "outputs": [],
   "source": []
  }
 ],
 "metadata": {
  "kernelspec": {
   "display_name": "Python 3",
   "language": "python",
   "name": "python3"
  },
  "language_info": {
   "codemirror_mode": {
    "name": "ipython",
    "version": 3
   },
   "file_extension": ".py",
   "mimetype": "text/x-python",
   "name": "python",
   "nbconvert_exporter": "python",
   "pygments_lexer": "ipython3",
   "version": "3.7.2"
  }
 },
 "nbformat": 4,
 "nbformat_minor": 5
}
